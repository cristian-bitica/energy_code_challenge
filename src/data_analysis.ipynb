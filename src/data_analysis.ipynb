{
 "cells": [
  {
   "cell_type": "code",
   "execution_count": 1,
   "metadata": {},
   "outputs": [],
   "source": [
    "from spark_session import spark"
   ]
  },
  {
   "cell_type": "code",
   "execution_count": 38,
   "metadata": {},
   "outputs": [],
   "source": [
    "import pyspark.sql.functions as F"
   ]
  },
  {
   "cell_type": "code",
   "execution_count": 13,
   "metadata": {},
   "outputs": [],
   "source": [
    "group_1_df = spark.read.load(path=\"../input_data/data_group_1.csv\", header=True, format='csv')\n",
    "group_2_df = spark.read.load(path=\"../input_data/data_group_2.csv\", header=True, format='csv')\n",
    "group_3_df = spark.read.load(path=\"../input_data/data_group_3.csv\", header=True, format='csv')"
   ]
  },
  {
   "cell_type": "code",
   "execution_count": 14,
   "metadata": {},
   "outputs": [
    {
     "name": "stdout",
     "output_type": "stream",
     "text": [
      "+-------+-------------------+------------------+------------------+------------------+-----------------+\n",
      "|summary|          timestamp|        turbine_id|        wind_speed|    wind_direction|     power_output|\n",
      "+-------+-------------------+------------------+------------------+------------------+-----------------+\n",
      "|  count|               3720|              3720|              3720|              3720|             3720|\n",
      "|   mean|               NULL|               3.0|11.973736559139779|179.83037634408603|2.988575268817212|\n",
      "| stddev|               NULL|1.4144036831728213| 1.772145938298415|104.51060608092517|0.869451748410373|\n",
      "|    min|2022-03-01 00:00:00|                 1|              10.0|                 0|              1.5|\n",
      "|    25%|               NULL|               2.0|              10.4|              89.0|              2.3|\n",
      "|    50%|               NULL|               3.0|              12.0|             180.0|              3.0|\n",
      "|    75%|               NULL|               4.0|              13.5|             269.0|              3.7|\n",
      "|    max|2022-03-31 23:00:00|                 5|               9.9|                99|              4.5|\n",
      "+-------+-------------------+------------------+------------------+------------------+-----------------+\n",
      "\n"
     ]
    }
   ],
   "source": [
    "group_1_df.summary().show()"
   ]
  },
  {
   "cell_type": "code",
   "execution_count": 46,
   "metadata": {},
   "outputs": [
    {
     "name": "stdout",
     "output_type": "stream",
     "text": [
      "+----------+----------+----------------+\n",
      "|       day|turbine_id|count(timestamp)|\n",
      "+----------+----------+----------------+\n",
      "|2022-03-01|         1|              24|\n",
      "|2022-03-01|         2|              24|\n",
      "|2022-03-01|         3|              24|\n",
      "|2022-03-01|         4|              24|\n",
      "|2022-03-01|         5|              24|\n",
      "|2022-03-02|         1|              24|\n",
      "|2022-03-02|         2|              24|\n",
      "|2022-03-02|         3|              24|\n",
      "|2022-03-02|         4|              24|\n",
      "|2022-03-02|         5|              24|\n",
      "|2022-03-03|         1|              24|\n",
      "|2022-03-03|         2|              24|\n",
      "|2022-03-03|         3|              24|\n",
      "|2022-03-03|         4|              24|\n",
      "|2022-03-03|         5|              24|\n",
      "|2022-03-04|         1|              24|\n",
      "|2022-03-04|         2|              24|\n",
      "|2022-03-04|         3|              24|\n",
      "|2022-03-04|         4|              24|\n",
      "|2022-03-04|         5|              24|\n",
      "+----------+----------+----------------+\n",
      "only showing top 20 rows\n",
      "\n"
     ]
    }
   ],
   "source": [
    "group_1_df.groupBy(F.to_date('timestamp').alias('day'), 'turbine_id').agg(F.count('timestamp')).orderBy('day', 'turbine_id').show()"
   ]
  },
  {
   "cell_type": "code",
   "execution_count": 47,
   "metadata": {},
   "outputs": [
    {
     "data": {
      "text/plain": [
       "0"
      ]
     },
     "execution_count": 47,
     "metadata": {},
     "output_type": "execute_result"
    }
   ],
   "source": [
    "group_1_df.filter('wind_speed is null').count()"
   ]
  },
  {
   "cell_type": "code",
   "execution_count": 48,
   "metadata": {},
   "outputs": [
    {
     "data": {
      "text/plain": [
       "0"
      ]
     },
     "execution_count": 48,
     "metadata": {},
     "output_type": "execute_result"
    }
   ],
   "source": [
    "group_1_df.filter('wind_direction is null').count()"
   ]
  },
  {
   "cell_type": "code",
   "execution_count": 49,
   "metadata": {},
   "outputs": [
    {
     "data": {
      "text/plain": [
       "0"
      ]
     },
     "execution_count": 49,
     "metadata": {},
     "output_type": "execute_result"
    }
   ],
   "source": [
    "group_1_df.filter('power_output is null').count()"
   ]
  },
  {
   "cell_type": "code",
   "execution_count": 15,
   "metadata": {},
   "outputs": [
    {
     "name": "stdout",
     "output_type": "stream",
     "text": [
      "+-------+-------------------+-----------------+------------------+------------------+------------------+\n",
      "|summary|          timestamp|       turbine_id|        wind_speed|    wind_direction|      power_output|\n",
      "+-------+-------------------+-----------------+------------------+------------------+------------------+\n",
      "|  count|               3720|             3720|              3720|              3720|              3720|\n",
      "|   mean|               NULL|              8.0|12.009462365591393|177.81693548387096| 2.998037634408601|\n",
      "| stddev|               NULL|1.414403683172821|  1.73041430634795| 103.3143134339538|0.8762062978545004|\n",
      "|    min|2022-03-01 00:00:00|               10|              10.0|                 0|               1.5|\n",
      "|    25%|               NULL|              7.0|              10.6|              87.0|               2.2|\n",
      "|    50%|               NULL|              8.0|              12.0|             177.0|               3.0|\n",
      "|    75%|               NULL|              9.0|              13.5|             266.0|               3.8|\n",
      "|    max|2022-03-31 23:00:00|                9|               9.9|                99|               4.5|\n",
      "+-------+-------------------+-----------------+------------------+------------------+------------------+\n",
      "\n"
     ]
    }
   ],
   "source": [
    "group_2_df.summary().show()"
   ]
  },
  {
   "cell_type": "code",
   "execution_count": 50,
   "metadata": {},
   "outputs": [
    {
     "data": {
      "text/plain": [
       "0"
      ]
     },
     "execution_count": 50,
     "metadata": {},
     "output_type": "execute_result"
    }
   ],
   "source": [
    "group_2_df.filter('wind_speed is null').count()"
   ]
  },
  {
   "cell_type": "code",
   "execution_count": 51,
   "metadata": {},
   "outputs": [
    {
     "data": {
      "text/plain": [
       "0"
      ]
     },
     "execution_count": 51,
     "metadata": {},
     "output_type": "execute_result"
    }
   ],
   "source": [
    "group_2_df.filter('wind_direction is null').count()"
   ]
  },
  {
   "cell_type": "code",
   "execution_count": null,
   "metadata": {},
   "outputs": [],
   "source": [
    "group_1_df.filter('power_output is null').count()"
   ]
  },
  {
   "cell_type": "code",
   "execution_count": 16,
   "metadata": {},
   "outputs": [
    {
     "name": "stdout",
     "output_type": "stream",
     "text": [
      "+-------+-------------------+------------------+------------------+------------------+------------------+\n",
      "|summary|          timestamp|        turbine_id|        wind_speed|    wind_direction|      power_output|\n",
      "+-------+-------------------+------------------+------------------+------------------+------------------+\n",
      "|  count|               3720|              3720|              3720|              3720|              3720|\n",
      "|   mean|               NULL|              13.0|12.024973118279592|182.06451612903226|3.0191666666666657|\n",
      "| stddev|               NULL|1.4144036831728222|1.7029062671174067|102.20687270538262|0.8637423991852079|\n",
      "|    min|2022-03-01 00:00:00|                11|              10.0|                 0|               1.5|\n",
      "|    25%|               NULL|              12.0|              10.6|              96.0|               2.3|\n",
      "|    50%|               NULL|              13.0|              12.0|             183.0|               3.0|\n",
      "|    75%|               NULL|              14.0|              13.5|             272.0|               3.8|\n",
      "|    max|2022-03-31 23:00:00|                15|               9.9|                99|               4.5|\n",
      "+-------+-------------------+------------------+------------------+------------------+------------------+\n",
      "\n"
     ]
    }
   ],
   "source": [
    "group_3_df.summary().show()"
   ]
  },
  {
   "cell_type": "code",
   "execution_count": null,
   "metadata": {},
   "outputs": [],
   "source": []
  }
 ],
 "metadata": {
  "kernelspec": {
   "display_name": "venv",
   "language": "python",
   "name": "python3"
  },
  "language_info": {
   "codemirror_mode": {
    "name": "ipython",
    "version": 3
   },
   "file_extension": ".py",
   "mimetype": "text/x-python",
   "name": "python",
   "nbconvert_exporter": "python",
   "pygments_lexer": "ipython3",
   "version": "3.11.3"
  }
 },
 "nbformat": 4,
 "nbformat_minor": 2
}
