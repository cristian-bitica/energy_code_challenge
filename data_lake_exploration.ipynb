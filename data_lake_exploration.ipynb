{
 "cells": [
  {
   "cell_type": "code",
   "execution_count": 1,
   "metadata": {},
   "outputs": [
    {
     "name": "stdout",
     "output_type": "stream",
     "text": [
      ":: loading settings :: url = jar:file:/Users/cristian.bitica/Projects/energy_code_challenge/venv/lib/python3.11/site-packages/pyspark/jars/ivy-2.5.1.jar!/org/apache/ivy/core/settings/ivysettings.xml\n"
     ]
    },
    {
     "name": "stderr",
     "output_type": "stream",
     "text": [
      "Ivy Default Cache set to: /Users/cristian.bitica/.ivy2/cache\n",
      "The jars for the packages stored in: /Users/cristian.bitica/.ivy2/jars\n",
      "io.delta#delta-spark_2.12 added as a dependency\n",
      ":: resolving dependencies :: org.apache.spark#spark-submit-parent-cb00b1f6-8264-4065-855b-6265717f3fc1;1.0\n",
      "\tconfs: [default]\n",
      "\tfound io.delta#delta-spark_2.12;3.2.1 in spark-list\n",
      "\tfound io.delta#delta-storage;3.2.1 in central\n",
      "\tfound org.antlr#antlr4-runtime;4.9.3 in central\n",
      ":: resolution report :: resolve 86ms :: artifacts dl 3ms\n",
      "\t:: modules in use:\n",
      "\tio.delta#delta-spark_2.12;3.2.1 from spark-list in [default]\n",
      "\tio.delta#delta-storage;3.2.1 from central in [default]\n",
      "\torg.antlr#antlr4-runtime;4.9.3 from central in [default]\n",
      "\t---------------------------------------------------------------------\n",
      "\t|                  |            modules            ||   artifacts   |\n",
      "\t|       conf       | number| search|dwnlded|evicted|| number|dwnlded|\n",
      "\t---------------------------------------------------------------------\n",
      "\t|      default     |   3   |   0   |   0   |   0   ||   3   |   0   |\n",
      "\t---------------------------------------------------------------------\n",
      ":: retrieving :: org.apache.spark#spark-submit-parent-cb00b1f6-8264-4065-855b-6265717f3fc1\n",
      "\tconfs: [default]\n",
      "\t0 artifacts copied, 3 already retrieved (0kB/3ms)\n",
      "24/12/11 15:36:14 WARN NativeCodeLoader: Unable to load native-hadoop library for your platform... using builtin-java classes where applicable\n",
      "Setting default log level to \"WARN\".\n",
      "To adjust logging level use sc.setLogLevel(newLevel). For SparkR, use setLogLevel(newLevel).\n"
     ]
    }
   ],
   "source": [
    "from src.utils import get_spark_session\n",
    "spark = get_spark_session()"
   ]
  },
  {
   "cell_type": "code",
   "execution_count": 2,
   "metadata": {},
   "outputs": [],
   "source": [
    "bronze_df = spark.read.load(\"spark-warehouse/bronze_wind_turbine_measurements\", format=\"delta\")\n",
    "silver_df = spark.read.load(\"spark-warehouse/silver_wind_turbine_measurements\", format=\"delta\")\n",
    "gold_df = spark.read.load(\"spark-warehouse/gold_wind_turbine_daily_power_output_metrics\", format=\"delta\")"
   ]
  },
  {
   "cell_type": "code",
   "execution_count": 3,
   "metadata": {},
   "outputs": [
    {
     "name": "stderr",
     "output_type": "stream",
     "text": [
      "24/12/11 15:38:05 WARN SparkStringUtils: Truncated the string representation of a plan since it was too large. This behavior can be adjusted by setting 'spark.sql.debug.maxToStringFields'.\n",
      "                                                                                \r"
     ]
    },
    {
     "name": "stdout",
     "output_type": "stream",
     "text": [
      "+-------------------+----------+----------+--------------+------------+--------------------+\n",
      "|          timestamp|turbine_id|wind_speed|wind_direction|power_output|        date_created|\n",
      "+-------------------+----------+----------+--------------+------------+--------------------+\n",
      "|2022-03-01 00:00:00|        11|       9.1|           269|         2.9|2024-12-11 15:33:...|\n",
      "|2022-03-01 00:00:00|        12|      11.3|           316|         2.5|2024-12-11 15:33:...|\n",
      "|2022-03-01 00:00:00|        13|      11.2|           148|         3.7|2024-12-11 15:33:...|\n",
      "|2022-03-01 00:00:00|        14|      10.7|            97|         1.6|2024-12-11 15:33:...|\n",
      "|2022-03-01 00:00:00|        15|      11.0|            81|         4.4|2024-12-11 15:33:...|\n",
      "|2022-03-01 01:00:00|        11|      12.3|           245|         1.8|2024-12-11 15:33:...|\n",
      "|2022-03-01 01:00:00|        12|      11.0|           293|         2.2|2024-12-11 15:33:...|\n",
      "|2022-03-01 01:00:00|        13|      11.4|           270|         1.9|2024-12-11 15:33:...|\n",
      "|2022-03-01 01:00:00|        14|      10.4|           140|         2.3|2024-12-11 15:33:...|\n",
      "|2022-03-01 01:00:00|        15|      14.6|           283|         4.3|2024-12-11 15:33:...|\n",
      "|2022-03-01 02:00:00|        11|      14.3|           135|         2.9|2024-12-11 15:33:...|\n",
      "|2022-03-01 02:00:00|        12|       9.1|           358|         3.2|2024-12-11 15:33:...|\n",
      "|2022-03-01 02:00:00|        13|      13.7|            67|         3.1|2024-12-11 15:33:...|\n",
      "|2022-03-01 02:00:00|        14|       9.2|            89|         2.7|2024-12-11 15:33:...|\n",
      "|2022-03-01 02:00:00|        15|       9.7|           303|         4.5|2024-12-11 15:33:...|\n",
      "|2022-03-01 03:00:00|        11|       9.6|           171|         2.6|2024-12-11 15:33:...|\n",
      "|2022-03-01 03:00:00|        12|      11.0|           175|         2.4|2024-12-11 15:33:...|\n",
      "|2022-03-01 03:00:00|        13|      13.0|            42|         4.1|2024-12-11 15:33:...|\n",
      "|2022-03-01 03:00:00|        14|      13.6|           198|         3.1|2024-12-11 15:33:...|\n",
      "|2022-03-01 03:00:00|        15|       9.3|           162|         3.8|2024-12-11 15:33:...|\n",
      "+-------------------+----------+----------+--------------+------------+--------------------+\n",
      "only showing top 20 rows\n",
      "\n"
     ]
    }
   ],
   "source": [
    "bronze_df.show()"
   ]
  },
  {
   "cell_type": "code",
   "execution_count": 4,
   "metadata": {},
   "outputs": [
    {
     "name": "stderr",
     "output_type": "stream",
     "text": [
      "                                                                                \r"
     ]
    },
    {
     "name": "stdout",
     "output_type": "stream",
     "text": [
      "+-------------------+----------+----------+--------------+------------+--------------------+\n",
      "|          timestamp|turbine_id|wind_speed|wind_direction|power_output|        date_created|\n",
      "+-------------------+----------+----------+--------------+------------+--------------------+\n",
      "|2022-03-01 00:00:00|         1|      11.8|           169|         2.7|2024-12-11 15:33:...|\n",
      "|2022-03-01 01:00:00|         1|      11.6|           152|         4.4|2024-12-11 15:33:...|\n",
      "|2022-03-01 02:00:00|         1|      13.8|            73|         2.9|2024-12-11 15:33:...|\n",
      "|2022-03-01 03:00:00|         1|      10.5|            61|         1.8|2024-12-11 15:33:...|\n",
      "|2022-03-01 04:00:00|         1|       9.1|           209|         2.3|2024-12-11 15:33:...|\n",
      "|2022-03-01 05:00:00|         1|      12.4|           116|         2.2|2024-12-11 15:33:...|\n",
      "|2022-03-01 06:00:00|         1|       9.2|            97|         4.2|2024-12-11 15:33:...|\n",
      "|2022-03-01 07:00:00|         1|      10.1|            87|         4.0|2024-12-11 15:33:...|\n",
      "|2022-03-01 08:00:00|         1|      12.6|           150|         1.6|2024-12-11 15:33:...|\n",
      "|2022-03-01 09:00:00|         1|       9.1|            31|         2.7|2024-12-11 15:33:...|\n",
      "|2022-03-01 10:00:00|         1|       9.6|           127|         2.8|2024-12-11 15:33:...|\n",
      "|2022-03-01 11:00:00|         1|      12.9|           348|         4.0|2024-12-11 15:33:...|\n",
      "|2022-03-01 12:00:00|         1|      11.9|            93|         2.0|2024-12-11 15:33:...|\n",
      "|2022-03-01 13:00:00|         1|      11.4|           289|         3.9|2024-12-11 15:33:...|\n",
      "|2022-03-01 14:00:00|         1|       9.4|           316|         3.9|2024-12-11 15:33:...|\n",
      "|2022-03-01 15:00:00|         1|       9.7|           135|         2.9|2024-12-11 15:33:...|\n",
      "|2022-03-01 16:00:00|         1|      12.4|           289|         2.3|2024-12-11 15:33:...|\n",
      "|2022-03-01 17:00:00|         1|      11.7|           253|         4.3|2024-12-11 15:33:...|\n",
      "|2022-03-01 18:00:00|         1|      10.1|           240|         1.8|2024-12-11 15:33:...|\n",
      "|2022-03-01 19:00:00|         1|      14.7|           131|         2.5|2024-12-11 15:33:...|\n",
      "+-------------------+----------+----------+--------------+------------+--------------------+\n",
      "only showing top 20 rows\n",
      "\n"
     ]
    }
   ],
   "source": [
    "silver_df.show()"
   ]
  },
  {
   "cell_type": "code",
   "execution_count": 5,
   "metadata": {},
   "outputs": [
    {
     "name": "stderr",
     "output_type": "stream",
     "text": [
      "                                                                                \r"
     ]
    },
    {
     "name": "stdout",
     "output_type": "stream",
     "text": [
      "+----------+----------+----------------------+----------------------+-----------------------+\n",
      "|turbine_id|      date|power_output_daily_min|power_output_daily_max|power_output_daily_mean|\n",
      "+----------+----------+----------------------+----------------------+-----------------------+\n",
      "|         3|2022-03-23|                   1.5|                   4.2|                    2.8|\n",
      "|         2|2022-03-26|                   1.5|                   4.5|                   2.99|\n",
      "|         6|2022-03-05|                   1.6|                   4.4|                   3.09|\n",
      "|         9|2022-03-16|                   1.7|                   4.0|                   2.98|\n",
      "|        11|2022-03-26|                   1.6|                   4.5|                   3.35|\n",
      "|        13|2022-03-25|                   1.5|                   4.4|                   2.94|\n",
      "|         3|2022-03-21|                   1.5|                   4.4|                   3.34|\n",
      "|         3|2022-03-16|                   1.8|                   4.3|                    2.9|\n",
      "|         8|2022-03-07|                   1.5|                   4.4|                   2.94|\n",
      "|        11|2022-03-03|                   1.6|                   4.5|                   3.05|\n",
      "|        11|2022-03-09|                   1.6|                   4.4|                    2.7|\n",
      "|        14|2022-03-30|                   1.5|                   4.4|                   2.89|\n",
      "|         2|2022-03-31|                   1.6|                   4.4|                   3.23|\n",
      "|         5|2022-03-06|                   1.5|                   4.4|                   3.01|\n",
      "|         7|2022-03-26|                   1.6|                   4.3|                    3.2|\n",
      "|         9|2022-03-10|                   1.5|                   4.3|                   2.99|\n",
      "|        11|2022-03-07|                   1.5|                   4.5|                    2.8|\n",
      "|        14|2022-03-18|                   1.6|                   4.5|                    3.1|\n",
      "|         1|2022-03-28|                   1.6|                   4.5|                   3.08|\n",
      "|        12|2022-03-23|                   1.5|                   4.4|                    3.0|\n",
      "+----------+----------+----------------------+----------------------+-----------------------+\n",
      "only showing top 20 rows\n",
      "\n"
     ]
    }
   ],
   "source": [
    "gold_df.show()"
   ]
  },
  {
   "cell_type": "code",
   "execution_count": null,
   "metadata": {},
   "outputs": [],
   "source": []
  }
 ],
 "metadata": {
  "kernelspec": {
   "display_name": "venv",
   "language": "python",
   "name": "python3"
  },
  "language_info": {
   "codemirror_mode": {
    "name": "ipython",
    "version": 3
   },
   "file_extension": ".py",
   "mimetype": "text/x-python",
   "name": "python",
   "nbconvert_exporter": "python",
   "pygments_lexer": "ipython3",
   "version": "3.11.3"
  }
 },
 "nbformat": 4,
 "nbformat_minor": 2
}
